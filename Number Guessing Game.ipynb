{
 "cells": [
  {
   "cell_type": "markdown",
   "id": "c5b168c3",
   "metadata": {},
   "source": [
    "# Introduction\n",
    "\n",
    "I created a number guessing game using python."
   ]
  },
  {
   "cell_type": "code",
   "execution_count": 1,
   "id": "6d9a19e4",
   "metadata": {},
   "outputs": [],
   "source": [
    "# bring in the logo for the game\n",
    "logo =\"\"\"\n",
    "\n",
    " #####                                                                                                  \n",
    "#     # #    # ######  ####   ####     ##### #    # ######    #    # #    # #    # #####  ###### #####  \n",
    "#       #    # #      #      #           #   #    # #         ##   # #    # ##  ## #    # #      #    # \n",
    "#  #### #    # #####   ####   ####       #   ###### #####     # #  # #    # # ## # #####  #####  #    # \n",
    "#     # #    # #           #      #      #   #    # #         #  # # #    # #    # #    # #      #####  \n",
    "#     # #    # #      #    # #    #      #   #    # #         #   ## #    # #    # #    # #      #   #  \n",
    " #####   ####  ######  ####   ####       #   #    # ######    #    #  ####  #    # #####  ###### #    # \n",
    "\n",
    "\"\"\""
   ]
  },
  {
   "cell_type": "code",
   "execution_count": 2,
   "id": "ccb754b8",
   "metadata": {},
   "outputs": [],
   "source": [
    "#import random module\n",
    "import random\n",
    "# choose the random computer guess\n",
    "comp_pick=random.randint(1,100)\n",
    "# Set number of attempts for easy and hard mode\n",
    "attempts_easy=10\n",
    "attempts_hard=5\n",
    "# create a global condition for end of game\n",
    "end_of_game=False"
   ]
  },
  {
   "cell_type": "code",
   "execution_count": 3,
   "id": "f9a8e371",
   "metadata": {},
   "outputs": [],
   "source": [
    "# define a function to check the difficulty\n",
    "def check_difficulty():\n",
    "    # ask the player to choose a difficulty\n",
    "   difficulty=input(\"Choose a difficulty 'easy' or 'hard': \").lower()\n",
    "   if difficulty=='easy':\n",
    "        attempts=attempts_easy\n",
    "        print(f'You have {attempts} attempts remaining to guess the number.')\n",
    "        play_game(attempts)\n",
    "   else:\n",
    "    attempts=attempts_hard\n",
    "    print(f'You have {attempts} attempts remaining to guess the number.')\n",
    "    play_game(attempts)         "
   ]
  },
  {
   "cell_type": "code",
   "execution_count": 4,
   "id": "711ee6d2",
   "metadata": {},
   "outputs": [],
   "source": [
    "# Define a function to check the number of attempts left\n",
    "def attempts_left(attempts):\n",
    "  global end_of_game\n",
    "  if attempts!=0:\n",
    "    print('Guess again.') \n",
    "    print(f'You have {attempts} attempts remaining to guess the number.')\n",
    "  else:\n",
    "    end_of_game=True\n",
    "    print(f'You have run out of attempts, You loose.\\n the correct answer was {comp_pick}')"
   ]
  },
  {
   "cell_type": "code",
   "execution_count": 5,
   "id": "2e9382fb",
   "metadata": {},
   "outputs": [],
   "source": [
    "# create function for gameplay\n",
    "def play_game(attempts):\n",
    "  global end_of_game\n",
    "  while not end_of_game:\n",
    "    player_guess=int(input('Make a guess: '))\n",
    "    if player_guess!=comp_pick:\n",
    "      attempts-=1\n",
    "      if player_guess>comp_pick:\n",
    "        print('Too high')\n",
    "        attempts_left(attempts)\n",
    "      else:\n",
    "        print('Too low')\n",
    "        attempts_left(attempts)\n",
    "    else:\n",
    "      end_of_game=True\n",
    "      print(f'You guessed correctly, the answer is {comp_pick}, You win!!!.') "
   ]
  },
  {
   "cell_type": "code",
   "execution_count": 6,
   "id": "50f457ee",
   "metadata": {},
   "outputs": [],
   "source": [
    "# define a function for the whole game itself\n",
    "def number_game():\n",
    "  print(logo)\n",
    "  # print logo\n",
    "  # create a greeting for the game\n",
    "  print('Welcome to the number Guessing game by Jubril.')\n",
    "  # I am a thinking of a number between 1 and 100\n",
    "  print('I am thinking of a number between 1 and 100.')\n",
    "\n",
    "  check_difficulty()"
   ]
  },
  {
   "cell_type": "code",
   "execution_count": null,
   "id": "7eb94370",
   "metadata": {},
   "outputs": [
    {
     "name": "stdout",
     "output_type": "stream",
     "text": [
      "\n",
      "\n",
      " #####                                                                                                  \n",
      "#     # #    # ######  ####   ####     ##### #    # ######    #    # #    # #    # #####  ###### #####  \n",
      "#       #    # #      #      #           #   #    # #         ##   # #    # ##  ## #    # #      #    # \n",
      "#  #### #    # #####   ####   ####       #   ###### #####     # #  # #    # # ## # #####  #####  #    # \n",
      "#     # #    # #           #      #      #   #    # #         #  # # #    # #    # #    # #      #####  \n",
      "#     # #    # #      #    # #    #      #   #    # #         #   ## #    # #    # #    # #      #   #  \n",
      " #####   ####  ######  ####   ####       #   #    # ######    #    #  ####  #    # #####  ###### #    # \n",
      "\n",
      "\n",
      "Welcome to the number Guessing game by Jubril.\n",
      "I am thinking of a number between 1 and 100.\n"
     ]
    }
   ],
   "source": [
    "# call the nuber_game\n",
    "number_game()"
   ]
  }
 ],
 "metadata": {
  "kernelspec": {
   "display_name": "Python 3 (ipykernel)",
   "language": "python",
   "name": "python3"
  },
  "language_info": {
   "codemirror_mode": {
    "name": "ipython",
    "version": 3
   },
   "file_extension": ".py",
   "mimetype": "text/x-python",
   "name": "python",
   "nbconvert_exporter": "python",
   "pygments_lexer": "ipython3",
   "version": "3.9.7"
  }
 },
 "nbformat": 4,
 "nbformat_minor": 5
}
